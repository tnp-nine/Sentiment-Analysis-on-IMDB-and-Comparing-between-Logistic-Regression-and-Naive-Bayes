{
  "nbformat": 4,
  "nbformat_minor": 0,
  "metadata": {
    "colab": {
      "provenance": []
    },
    "kernelspec": {
      "name": "python3",
      "display_name": "Python 3"
    },
    "language_info": {
      "name": "python"
    }
  },
  "cells": [
    {
      "cell_type": "markdown",
      "source": [
        "# Sentimet Analysis on IMDB reviews and comparing between Logistic Regression and Naive Bayes"
      ],
      "metadata": {
        "id": "LVEV0_nJg-8y"
      }
    },
    {
      "cell_type": "markdown",
      "source": [
        "Import all the libraries."
      ],
      "metadata": {
        "id": "LeRltODmiuMd"
      }
    },
    {
      "cell_type": "code",
      "source": [
        "pip install kaggle"
      ],
      "metadata": {
        "colab": {
          "base_uri": "https://localhost:8080/"
        },
        "id": "E6hZiAKdkhqB",
        "outputId": "4f73b91e-06e7-44ae-ed02-5e3497564bf7"
      },
      "execution_count": null,
      "outputs": [
        {
          "output_type": "stream",
          "name": "stdout",
          "text": [
            "Requirement already satisfied: kaggle in /usr/local/lib/python3.10/dist-packages (1.6.17)\n",
            "Requirement already satisfied: six>=1.10 in /usr/local/lib/python3.10/dist-packages (from kaggle) (1.16.0)\n",
            "Requirement already satisfied: certifi>=2023.7.22 in /usr/local/lib/python3.10/dist-packages (from kaggle) (2024.8.30)\n",
            "Requirement already satisfied: python-dateutil in /usr/local/lib/python3.10/dist-packages (from kaggle) (2.8.2)\n",
            "Requirement already satisfied: requests in /usr/local/lib/python3.10/dist-packages (from kaggle) (2.32.3)\n",
            "Requirement already satisfied: tqdm in /usr/local/lib/python3.10/dist-packages (from kaggle) (4.66.5)\n",
            "Requirement already satisfied: python-slugify in /usr/local/lib/python3.10/dist-packages (from kaggle) (8.0.4)\n",
            "Requirement already satisfied: urllib3 in /usr/local/lib/python3.10/dist-packages (from kaggle) (2.2.3)\n",
            "Requirement already satisfied: bleach in /usr/local/lib/python3.10/dist-packages (from kaggle) (6.1.0)\n",
            "Requirement already satisfied: webencodings in /usr/local/lib/python3.10/dist-packages (from bleach->kaggle) (0.5.1)\n",
            "Requirement already satisfied: text-unidecode>=1.3 in /usr/local/lib/python3.10/dist-packages (from python-slugify->kaggle) (1.3)\n",
            "Requirement already satisfied: charset-normalizer<4,>=2 in /usr/local/lib/python3.10/dist-packages (from requests->kaggle) (3.3.2)\n",
            "Requirement already satisfied: idna<4,>=2.5 in /usr/local/lib/python3.10/dist-packages (from requests->kaggle) (3.10)\n"
          ]
        }
      ]
    },
    {
      "cell_type": "code",
      "execution_count": null,
      "metadata": {
        "id": "Yql3y1Koa01Z"
      },
      "outputs": [],
      "source": [
        "import os\n",
        "import re\n",
        "\n",
        "import pandas as pd\n",
        "import numpy as np\n",
        "import zipfile\n",
        "import gdown\n",
        "\n",
        "# Text processing\n",
        "import nltk\n",
        "from nltk.corpus import stopwords\n",
        "from nltk.stem import WordNetLemmatizer\n",
        "from nltk.tokenize import word_tokenize\n",
        "\n",
        "# For Classificaiton\n",
        "from sklearn.model_selection import train_test_split\n",
        "from sklearn.feature_extraction.text import CountVectorizer\n",
        "from sklearn.preprocessing import LabelBinarizer\n",
        "from sklearn.linear_model import LogisticRegression\n",
        "from sklearn.naive_bayes import MultinomialNB, GaussianNB\n",
        "from sklearn.metrics import classification_report, accuracy_score, roc_auc_score, roc_curve, auc\n",
        "from gensim.models import Word2Vec\n",
        "from gensim.models import KeyedVectors"
      ]
    },
    {
      "cell_type": "markdown",
      "source": [
        "## Import Dataset : IMDB Dataset of 50K Movie Reviews\n",
        "Ref: https://www.kaggle.com/datasets/lakshmi25npathi/imdb-dataset-of-50k-movie-reviews?resource=download"
      ],
      "metadata": {
        "id": "MRMWZNAXjw-d"
      }
    },
    {
      "cell_type": "code",
      "source": [
        "os.system(f\"kaggle datasets download -d lakshmi25npathi/imdb-dataset-of-50k-movie-reviews\")"
      ],
      "metadata": {
        "colab": {
          "base_uri": "https://localhost:8080/"
        },
        "id": "EgAbnXtgkfkv",
        "outputId": "607d77b4-8615-4c4a-85e4-8475d644dec4"
      },
      "execution_count": null,
      "outputs": [
        {
          "output_type": "execute_result",
          "data": {
            "text/plain": [
              "0"
            ]
          },
          "metadata": {},
          "execution_count": 3
        }
      ]
    },
    {
      "cell_type": "code",
      "source": [
        "zip_file = '/content/imdb-dataset-of-50k-movie-reviews.zip'\n",
        "\n",
        "with zipfile.ZipFile(zip_file, 'r') as _:\n",
        "  print(_.namelist())\n",
        "\n",
        "  imdb_data = pd.read_csv(_.open('IMDB Dataset.csv'))\n",
        "\n",
        "imdb_data.head(10)"
      ],
      "metadata": {
        "colab": {
          "base_uri": "https://localhost:8080/",
          "height": 376
        },
        "id": "Q9St5uIJlIJY",
        "outputId": "29d8d093-d5b1-49dc-822c-fb50de215a35"
      },
      "execution_count": null,
      "outputs": [
        {
          "output_type": "stream",
          "name": "stdout",
          "text": [
            "['IMDB Dataset.csv']\n"
          ]
        },
        {
          "output_type": "execute_result",
          "data": {
            "text/plain": [
              "                                              review sentiment\n",
              "0  One of the other reviewers has mentioned that ...  positive\n",
              "1  A wonderful little production. <br /><br />The...  positive\n",
              "2  I thought this was a wonderful way to spend ti...  positive\n",
              "3  Basically there's a family where a little boy ...  negative\n",
              "4  Petter Mattei's \"Love in the Time of Money\" is...  positive\n",
              "5  Probably my all-time favorite movie, a story o...  positive\n",
              "6  I sure would like to see a resurrection of a u...  positive\n",
              "7  This show was an amazing, fresh & innovative i...  negative\n",
              "8  Encouraged by the positive comments about this...  negative\n",
              "9  If you like original gut wrenching laughter yo...  positive"
            ],
            "text/html": [
              "\n",
              "  <div id=\"df-f6318955-99e5-4d58-beac-93769e6a03a8\" class=\"colab-df-container\">\n",
              "    <div>\n",
              "<style scoped>\n",
              "    .dataframe tbody tr th:only-of-type {\n",
              "        vertical-align: middle;\n",
              "    }\n",
              "\n",
              "    .dataframe tbody tr th {\n",
              "        vertical-align: top;\n",
              "    }\n",
              "\n",
              "    .dataframe thead th {\n",
              "        text-align: right;\n",
              "    }\n",
              "</style>\n",
              "<table border=\"1\" class=\"dataframe\">\n",
              "  <thead>\n",
              "    <tr style=\"text-align: right;\">\n",
              "      <th></th>\n",
              "      <th>review</th>\n",
              "      <th>sentiment</th>\n",
              "    </tr>\n",
              "  </thead>\n",
              "  <tbody>\n",
              "    <tr>\n",
              "      <th>0</th>\n",
              "      <td>One of the other reviewers has mentioned that ...</td>\n",
              "      <td>positive</td>\n",
              "    </tr>\n",
              "    <tr>\n",
              "      <th>1</th>\n",
              "      <td>A wonderful little production. &lt;br /&gt;&lt;br /&gt;The...</td>\n",
              "      <td>positive</td>\n",
              "    </tr>\n",
              "    <tr>\n",
              "      <th>2</th>\n",
              "      <td>I thought this was a wonderful way to spend ti...</td>\n",
              "      <td>positive</td>\n",
              "    </tr>\n",
              "    <tr>\n",
              "      <th>3</th>\n",
              "      <td>Basically there's a family where a little boy ...</td>\n",
              "      <td>negative</td>\n",
              "    </tr>\n",
              "    <tr>\n",
              "      <th>4</th>\n",
              "      <td>Petter Mattei's \"Love in the Time of Money\" is...</td>\n",
              "      <td>positive</td>\n",
              "    </tr>\n",
              "    <tr>\n",
              "      <th>5</th>\n",
              "      <td>Probably my all-time favorite movie, a story o...</td>\n",
              "      <td>positive</td>\n",
              "    </tr>\n",
              "    <tr>\n",
              "      <th>6</th>\n",
              "      <td>I sure would like to see a resurrection of a u...</td>\n",
              "      <td>positive</td>\n",
              "    </tr>\n",
              "    <tr>\n",
              "      <th>7</th>\n",
              "      <td>This show was an amazing, fresh &amp; innovative i...</td>\n",
              "      <td>negative</td>\n",
              "    </tr>\n",
              "    <tr>\n",
              "      <th>8</th>\n",
              "      <td>Encouraged by the positive comments about this...</td>\n",
              "      <td>negative</td>\n",
              "    </tr>\n",
              "    <tr>\n",
              "      <th>9</th>\n",
              "      <td>If you like original gut wrenching laughter yo...</td>\n",
              "      <td>positive</td>\n",
              "    </tr>\n",
              "  </tbody>\n",
              "</table>\n",
              "</div>\n",
              "    <div class=\"colab-df-buttons\">\n",
              "\n",
              "  <div class=\"colab-df-container\">\n",
              "    <button class=\"colab-df-convert\" onclick=\"convertToInteractive('df-f6318955-99e5-4d58-beac-93769e6a03a8')\"\n",
              "            title=\"Convert this dataframe to an interactive table.\"\n",
              "            style=\"display:none;\">\n",
              "\n",
              "  <svg xmlns=\"http://www.w3.org/2000/svg\" height=\"24px\" viewBox=\"0 -960 960 960\">\n",
              "    <path d=\"M120-120v-720h720v720H120Zm60-500h600v-160H180v160Zm220 220h160v-160H400v160Zm0 220h160v-160H400v160ZM180-400h160v-160H180v160Zm440 0h160v-160H620v160ZM180-180h160v-160H180v160Zm440 0h160v-160H620v160Z\"/>\n",
              "  </svg>\n",
              "    </button>\n",
              "\n",
              "  <style>\n",
              "    .colab-df-container {\n",
              "      display:flex;\n",
              "      gap: 12px;\n",
              "    }\n",
              "\n",
              "    .colab-df-convert {\n",
              "      background-color: #E8F0FE;\n",
              "      border: none;\n",
              "      border-radius: 50%;\n",
              "      cursor: pointer;\n",
              "      display: none;\n",
              "      fill: #1967D2;\n",
              "      height: 32px;\n",
              "      padding: 0 0 0 0;\n",
              "      width: 32px;\n",
              "    }\n",
              "\n",
              "    .colab-df-convert:hover {\n",
              "      background-color: #E2EBFA;\n",
              "      box-shadow: 0px 1px 2px rgba(60, 64, 67, 0.3), 0px 1px 3px 1px rgba(60, 64, 67, 0.15);\n",
              "      fill: #174EA6;\n",
              "    }\n",
              "\n",
              "    .colab-df-buttons div {\n",
              "      margin-bottom: 4px;\n",
              "    }\n",
              "\n",
              "    [theme=dark] .colab-df-convert {\n",
              "      background-color: #3B4455;\n",
              "      fill: #D2E3FC;\n",
              "    }\n",
              "\n",
              "    [theme=dark] .colab-df-convert:hover {\n",
              "      background-color: #434B5C;\n",
              "      box-shadow: 0px 1px 3px 1px rgba(0, 0, 0, 0.15);\n",
              "      filter: drop-shadow(0px 1px 2px rgba(0, 0, 0, 0.3));\n",
              "      fill: #FFFFFF;\n",
              "    }\n",
              "  </style>\n",
              "\n",
              "    <script>\n",
              "      const buttonEl =\n",
              "        document.querySelector('#df-f6318955-99e5-4d58-beac-93769e6a03a8 button.colab-df-convert');\n",
              "      buttonEl.style.display =\n",
              "        google.colab.kernel.accessAllowed ? 'block' : 'none';\n",
              "\n",
              "      async function convertToInteractive(key) {\n",
              "        const element = document.querySelector('#df-f6318955-99e5-4d58-beac-93769e6a03a8');\n",
              "        const dataTable =\n",
              "          await google.colab.kernel.invokeFunction('convertToInteractive',\n",
              "                                                    [key], {});\n",
              "        if (!dataTable) return;\n",
              "\n",
              "        const docLinkHtml = 'Like what you see? Visit the ' +\n",
              "          '<a target=\"_blank\" href=https://colab.research.google.com/notebooks/data_table.ipynb>data table notebook</a>'\n",
              "          + ' to learn more about interactive tables.';\n",
              "        element.innerHTML = '';\n",
              "        dataTable['output_type'] = 'display_data';\n",
              "        await google.colab.output.renderOutput(dataTable, element);\n",
              "        const docLink = document.createElement('div');\n",
              "        docLink.innerHTML = docLinkHtml;\n",
              "        element.appendChild(docLink);\n",
              "      }\n",
              "    </script>\n",
              "  </div>\n",
              "\n",
              "\n",
              "<div id=\"df-5246b29f-a08c-48c7-ad2f-c7f4ba36aa9e\">\n",
              "  <button class=\"colab-df-quickchart\" onclick=\"quickchart('df-5246b29f-a08c-48c7-ad2f-c7f4ba36aa9e')\"\n",
              "            title=\"Suggest charts\"\n",
              "            style=\"display:none;\">\n",
              "\n",
              "<svg xmlns=\"http://www.w3.org/2000/svg\" height=\"24px\"viewBox=\"0 0 24 24\"\n",
              "     width=\"24px\">\n",
              "    <g>\n",
              "        <path d=\"M19 3H5c-1.1 0-2 .9-2 2v14c0 1.1.9 2 2 2h14c1.1 0 2-.9 2-2V5c0-1.1-.9-2-2-2zM9 17H7v-7h2v7zm4 0h-2V7h2v10zm4 0h-2v-4h2v4z\"/>\n",
              "    </g>\n",
              "</svg>\n",
              "  </button>\n",
              "\n",
              "<style>\n",
              "  .colab-df-quickchart {\n",
              "      --bg-color: #E8F0FE;\n",
              "      --fill-color: #1967D2;\n",
              "      --hover-bg-color: #E2EBFA;\n",
              "      --hover-fill-color: #174EA6;\n",
              "      --disabled-fill-color: #AAA;\n",
              "      --disabled-bg-color: #DDD;\n",
              "  }\n",
              "\n",
              "  [theme=dark] .colab-df-quickchart {\n",
              "      --bg-color: #3B4455;\n",
              "      --fill-color: #D2E3FC;\n",
              "      --hover-bg-color: #434B5C;\n",
              "      --hover-fill-color: #FFFFFF;\n",
              "      --disabled-bg-color: #3B4455;\n",
              "      --disabled-fill-color: #666;\n",
              "  }\n",
              "\n",
              "  .colab-df-quickchart {\n",
              "    background-color: var(--bg-color);\n",
              "    border: none;\n",
              "    border-radius: 50%;\n",
              "    cursor: pointer;\n",
              "    display: none;\n",
              "    fill: var(--fill-color);\n",
              "    height: 32px;\n",
              "    padding: 0;\n",
              "    width: 32px;\n",
              "  }\n",
              "\n",
              "  .colab-df-quickchart:hover {\n",
              "    background-color: var(--hover-bg-color);\n",
              "    box-shadow: 0 1px 2px rgba(60, 64, 67, 0.3), 0 1px 3px 1px rgba(60, 64, 67, 0.15);\n",
              "    fill: var(--button-hover-fill-color);\n",
              "  }\n",
              "\n",
              "  .colab-df-quickchart-complete:disabled,\n",
              "  .colab-df-quickchart-complete:disabled:hover {\n",
              "    background-color: var(--disabled-bg-color);\n",
              "    fill: var(--disabled-fill-color);\n",
              "    box-shadow: none;\n",
              "  }\n",
              "\n",
              "  .colab-df-spinner {\n",
              "    border: 2px solid var(--fill-color);\n",
              "    border-color: transparent;\n",
              "    border-bottom-color: var(--fill-color);\n",
              "    animation:\n",
              "      spin 1s steps(1) infinite;\n",
              "  }\n",
              "\n",
              "  @keyframes spin {\n",
              "    0% {\n",
              "      border-color: transparent;\n",
              "      border-bottom-color: var(--fill-color);\n",
              "      border-left-color: var(--fill-color);\n",
              "    }\n",
              "    20% {\n",
              "      border-color: transparent;\n",
              "      border-left-color: var(--fill-color);\n",
              "      border-top-color: var(--fill-color);\n",
              "    }\n",
              "    30% {\n",
              "      border-color: transparent;\n",
              "      border-left-color: var(--fill-color);\n",
              "      border-top-color: var(--fill-color);\n",
              "      border-right-color: var(--fill-color);\n",
              "    }\n",
              "    40% {\n",
              "      border-color: transparent;\n",
              "      border-right-color: var(--fill-color);\n",
              "      border-top-color: var(--fill-color);\n",
              "    }\n",
              "    60% {\n",
              "      border-color: transparent;\n",
              "      border-right-color: var(--fill-color);\n",
              "    }\n",
              "    80% {\n",
              "      border-color: transparent;\n",
              "      border-right-color: var(--fill-color);\n",
              "      border-bottom-color: var(--fill-color);\n",
              "    }\n",
              "    90% {\n",
              "      border-color: transparent;\n",
              "      border-bottom-color: var(--fill-color);\n",
              "    }\n",
              "  }\n",
              "</style>\n",
              "\n",
              "  <script>\n",
              "    async function quickchart(key) {\n",
              "      const quickchartButtonEl =\n",
              "        document.querySelector('#' + key + ' button');\n",
              "      quickchartButtonEl.disabled = true;  // To prevent multiple clicks.\n",
              "      quickchartButtonEl.classList.add('colab-df-spinner');\n",
              "      try {\n",
              "        const charts = await google.colab.kernel.invokeFunction(\n",
              "            'suggestCharts', [key], {});\n",
              "      } catch (error) {\n",
              "        console.error('Error during call to suggestCharts:', error);\n",
              "      }\n",
              "      quickchartButtonEl.classList.remove('colab-df-spinner');\n",
              "      quickchartButtonEl.classList.add('colab-df-quickchart-complete');\n",
              "    }\n",
              "    (() => {\n",
              "      let quickchartButtonEl =\n",
              "        document.querySelector('#df-5246b29f-a08c-48c7-ad2f-c7f4ba36aa9e button');\n",
              "      quickchartButtonEl.style.display =\n",
              "        google.colab.kernel.accessAllowed ? 'block' : 'none';\n",
              "    })();\n",
              "  </script>\n",
              "</div>\n",
              "\n",
              "    </div>\n",
              "  </div>\n"
            ],
            "application/vnd.google.colaboratory.intrinsic+json": {
              "type": "dataframe",
              "variable_name": "imdb_data",
              "summary": "{\n  \"name\": \"imdb_data\",\n  \"rows\": 50000,\n  \"fields\": [\n    {\n      \"column\": \"review\",\n      \"properties\": {\n        \"dtype\": \"string\",\n        \"num_unique_values\": 49582,\n        \"samples\": [\n          \"\\\"Soul Plane\\\" is a horrible attempt at comedy that only should appeal people with thick skulls, bloodshot eyes and furry pawns. <br /><br />The plot is not only incoherent but also non-existent, acting is mostly sub sub-par with a gang of highly moronic and dreadful characters thrown in for bad measure, jokes are often spotted miles ahead and almost never even a bit amusing. This movie lacks any structure and is full of racial stereotypes that must have seemed old even in the fifties, the only thing it really has going for it is some pretty ladies, but really, if you want that you can rent something from the \\\"Adult\\\" section. OK?<br /><br />I can hardly see anything here to recommend since you'll probably have a lot a better and productive time chasing rats with a sledgehammer or inventing waterproof teabags or whatever.<br /><br />2/10\",\n          \"Guest from the Future tells a fascinating story of time travel, friendship, battle of good and evil -- all with a small budget, child actors, and few special effects. Something for Spielberg and Lucas to learn from. ;) A sixth-grader Kolya \\\"Nick\\\" Gerasimov finds a time machine in the basement of a decrepit building and travels 100 years into the future. He discovers a near-perfect, utopian society where robots play guitars and write poetry, everyone is kind to each other and people enjoy everything technology has to offer. Alice is the daughter of a prominent scientist who invented a device called Mielophone that allows to read minds of humans and animals. The device can be put to both good and bad use, depending on whose hands it falls into. When two evil space pirates from Saturn who want to rule the universe attempt to steal Mielophone, it falls into the hands of 20th century school boy Nick. With the pirates hot on his tracks, he travels back to his time, followed by the pirates, and Alice. Chaos, confusion and funny situations follow as the luckless pirates try to blend in with the earthlings. Alice enrolls in the same school Nick goes to and demonstrates superhuman abilities in PE class. The catch is, Alice doesn't know what Nick looks like, while the pirates do. Also, the pirates are able to change their appearance and turn literally into anyone. (Hmm, I wonder if this is where James Cameron got the idea for Terminator...) Who gets to Nick -- and Mielophone -- first? Excellent plot, non-stop adventures, and great soundtrack. I wish Hollywood made kid movies like this one...\",\n          \"\\\"National Treasure\\\" (2004) is a thoroughly misguided hodge-podge of plot entanglements that borrow from nearly every cloak and dagger government conspiracy clich\\u00e9 that has ever been written. The film stars Nicholas Cage as Benjamin Franklin Gates (how precious is that, I ask you?); a seemingly normal fellow who, for no other reason than being of a lineage of like-minded misguided fortune hunters, decides to steal a 'national treasure' that has been hidden by the United States founding fathers. After a bit of subtext and background that plays laughably (unintentionally) like Indiana Jones meets The Patriot, the film degenerates into one misguided whimsy after another \\u0096 attempting to create a 'Stanley Goodspeed' regurgitation of Nicholas Cage and launch the whole convoluted mess forward with a series of high octane, but disconnected misadventures.<br /><br />The relevancy and logic to having George Washington and his motley crew of patriots burying a king's ransom someplace on native soil, and then, going through the meticulous plan of leaving clues scattered throughout U.S. currency art work, is something that director Jon Turteltaub never quite gets around to explaining. Couldn't Washington found better usage for such wealth during the start up of the country? Hence, we are left with a mystery built on top of an enigma that is already on shaky ground by the time Ben appoints himself the new custodian of this untold wealth. Ben's intentions are noble \\u0096 if confusing. He's set on protecting the treasure. For who and when?\\u0085your guess is as good as mine.<br /><br />But there are a few problems with Ben's crusade. First up, his friend, Ian Holmes (Sean Bean) decides that he can't wait for Ben to make up his mind about stealing the Declaration of Independence from the National Archives (oh, yeah \\u0096 brilliant idea!). Presumably, the back of that famous document holds the secret answer to the ultimate fortune. So Ian tries to kill Ben. The assassination attempt is, of course, unsuccessful, if overly melodramatic. It also affords Ben the opportunity to pick up, and pick on, the very sultry curator of the archives, Abigail Chase (Diane Kruger). She thinks Ben is clearly a nut \\u0096 at least at the beginning. But true to action/romance form, Abby's resolve melts quicker than you can say, \\\"is that the Hope Diamond?\\\" The film moves into full X-File-ish mode, as the FBI, mistakenly believing that Ben is behind the theft, retaliate in various benign ways that lead to a multi-layering of action sequences reminiscent of Mission Impossible meets The Fugitive. Honestly, don't those guys ever get 'intelligence' information that is correct? In the final analysis, \\\"National Treasure\\\" isn't great film making, so much as it's a patchwork rehash of tired old bits from other movies, woven together from scraps, the likes of which would make IL' Betsy Ross blush.<br /><br />The Buena Vista DVD delivers a far more generous treatment than this film is deserving of. The anamorphic widescreen picture exhibits a very smooth and finely detailed image with very rich colors, natural flesh tones, solid blacks and clean whites. The stylized image is also free of blemishes and digital enhancements. The audio is 5.1 and delivers a nice sonic boom to your side and rear speakers with intensity and realism. Extras include a host of promotional junket material that is rather deep and over the top in its explanation of how and why this film was made. If only, as an audience, we had had more clarification as to why Ben and co. were chasing after an illusive treasure, this might have been one good flick. Extras conclude with the theatrical trailer, audio commentary and deleted scenes. Not for the faint-hearted \\u0096 just the thick-headed.\"\n        ],\n        \"semantic_type\": \"\",\n        \"description\": \"\"\n      }\n    },\n    {\n      \"column\": \"sentiment\",\n      \"properties\": {\n        \"dtype\": \"category\",\n        \"num_unique_values\": 2,\n        \"samples\": [\n          \"negative\",\n          \"positive\"\n        ],\n        \"semantic_type\": \"\",\n        \"description\": \"\"\n      }\n    }\n  ]\n}"
            }
          },
          "metadata": {},
          "execution_count": 4
        }
      ]
    },
    {
      "cell_type": "code",
      "source": [
        "# Summary of Dataset\n",
        "imdb_data.describe()"
      ],
      "metadata": {
        "colab": {
          "base_uri": "https://localhost:8080/",
          "height": 173
        },
        "id": "Y8ZiBnuUk7pW",
        "outputId": "5ebed8ee-6102-4131-8b99-48e9c0fb4e3c"
      },
      "execution_count": null,
      "outputs": [
        {
          "output_type": "execute_result",
          "data": {
            "text/plain": [
              "                                                   review sentiment\n",
              "count                                               50000     50000\n",
              "unique                                              49582         2\n",
              "top     Loved today's show!!! It was a variety and not...  positive\n",
              "freq                                                    5     25000"
            ],
            "text/html": [
              "\n",
              "  <div id=\"df-ca4e1099-c334-42ce-878b-2b642a316c01\" class=\"colab-df-container\">\n",
              "    <div>\n",
              "<style scoped>\n",
              "    .dataframe tbody tr th:only-of-type {\n",
              "        vertical-align: middle;\n",
              "    }\n",
              "\n",
              "    .dataframe tbody tr th {\n",
              "        vertical-align: top;\n",
              "    }\n",
              "\n",
              "    .dataframe thead th {\n",
              "        text-align: right;\n",
              "    }\n",
              "</style>\n",
              "<table border=\"1\" class=\"dataframe\">\n",
              "  <thead>\n",
              "    <tr style=\"text-align: right;\">\n",
              "      <th></th>\n",
              "      <th>review</th>\n",
              "      <th>sentiment</th>\n",
              "    </tr>\n",
              "  </thead>\n",
              "  <tbody>\n",
              "    <tr>\n",
              "      <th>count</th>\n",
              "      <td>50000</td>\n",
              "      <td>50000</td>\n",
              "    </tr>\n",
              "    <tr>\n",
              "      <th>unique</th>\n",
              "      <td>49582</td>\n",
              "      <td>2</td>\n",
              "    </tr>\n",
              "    <tr>\n",
              "      <th>top</th>\n",
              "      <td>Loved today's show!!! It was a variety and not...</td>\n",
              "      <td>positive</td>\n",
              "    </tr>\n",
              "    <tr>\n",
              "      <th>freq</th>\n",
              "      <td>5</td>\n",
              "      <td>25000</td>\n",
              "    </tr>\n",
              "  </tbody>\n",
              "</table>\n",
              "</div>\n",
              "    <div class=\"colab-df-buttons\">\n",
              "\n",
              "  <div class=\"colab-df-container\">\n",
              "    <button class=\"colab-df-convert\" onclick=\"convertToInteractive('df-ca4e1099-c334-42ce-878b-2b642a316c01')\"\n",
              "            title=\"Convert this dataframe to an interactive table.\"\n",
              "            style=\"display:none;\">\n",
              "\n",
              "  <svg xmlns=\"http://www.w3.org/2000/svg\" height=\"24px\" viewBox=\"0 -960 960 960\">\n",
              "    <path d=\"M120-120v-720h720v720H120Zm60-500h600v-160H180v160Zm220 220h160v-160H400v160Zm0 220h160v-160H400v160ZM180-400h160v-160H180v160Zm440 0h160v-160H620v160ZM180-180h160v-160H180v160Zm440 0h160v-160H620v160Z\"/>\n",
              "  </svg>\n",
              "    </button>\n",
              "\n",
              "  <style>\n",
              "    .colab-df-container {\n",
              "      display:flex;\n",
              "      gap: 12px;\n",
              "    }\n",
              "\n",
              "    .colab-df-convert {\n",
              "      background-color: #E8F0FE;\n",
              "      border: none;\n",
              "      border-radius: 50%;\n",
              "      cursor: pointer;\n",
              "      display: none;\n",
              "      fill: #1967D2;\n",
              "      height: 32px;\n",
              "      padding: 0 0 0 0;\n",
              "      width: 32px;\n",
              "    }\n",
              "\n",
              "    .colab-df-convert:hover {\n",
              "      background-color: #E2EBFA;\n",
              "      box-shadow: 0px 1px 2px rgba(60, 64, 67, 0.3), 0px 1px 3px 1px rgba(60, 64, 67, 0.15);\n",
              "      fill: #174EA6;\n",
              "    }\n",
              "\n",
              "    .colab-df-buttons div {\n",
              "      margin-bottom: 4px;\n",
              "    }\n",
              "\n",
              "    [theme=dark] .colab-df-convert {\n",
              "      background-color: #3B4455;\n",
              "      fill: #D2E3FC;\n",
              "    }\n",
              "\n",
              "    [theme=dark] .colab-df-convert:hover {\n",
              "      background-color: #434B5C;\n",
              "      box-shadow: 0px 1px 3px 1px rgba(0, 0, 0, 0.15);\n",
              "      filter: drop-shadow(0px 1px 2px rgba(0, 0, 0, 0.3));\n",
              "      fill: #FFFFFF;\n",
              "    }\n",
              "  </style>\n",
              "\n",
              "    <script>\n",
              "      const buttonEl =\n",
              "        document.querySelector('#df-ca4e1099-c334-42ce-878b-2b642a316c01 button.colab-df-convert');\n",
              "      buttonEl.style.display =\n",
              "        google.colab.kernel.accessAllowed ? 'block' : 'none';\n",
              "\n",
              "      async function convertToInteractive(key) {\n",
              "        const element = document.querySelector('#df-ca4e1099-c334-42ce-878b-2b642a316c01');\n",
              "        const dataTable =\n",
              "          await google.colab.kernel.invokeFunction('convertToInteractive',\n",
              "                                                    [key], {});\n",
              "        if (!dataTable) return;\n",
              "\n",
              "        const docLinkHtml = 'Like what you see? Visit the ' +\n",
              "          '<a target=\"_blank\" href=https://colab.research.google.com/notebooks/data_table.ipynb>data table notebook</a>'\n",
              "          + ' to learn more about interactive tables.';\n",
              "        element.innerHTML = '';\n",
              "        dataTable['output_type'] = 'display_data';\n",
              "        await google.colab.output.renderOutput(dataTable, element);\n",
              "        const docLink = document.createElement('div');\n",
              "        docLink.innerHTML = docLinkHtml;\n",
              "        element.appendChild(docLink);\n",
              "      }\n",
              "    </script>\n",
              "  </div>\n",
              "\n",
              "\n",
              "<div id=\"df-4af78b12-4b2b-4736-b541-eec40280c9c8\">\n",
              "  <button class=\"colab-df-quickchart\" onclick=\"quickchart('df-4af78b12-4b2b-4736-b541-eec40280c9c8')\"\n",
              "            title=\"Suggest charts\"\n",
              "            style=\"display:none;\">\n",
              "\n",
              "<svg xmlns=\"http://www.w3.org/2000/svg\" height=\"24px\"viewBox=\"0 0 24 24\"\n",
              "     width=\"24px\">\n",
              "    <g>\n",
              "        <path d=\"M19 3H5c-1.1 0-2 .9-2 2v14c0 1.1.9 2 2 2h14c1.1 0 2-.9 2-2V5c0-1.1-.9-2-2-2zM9 17H7v-7h2v7zm4 0h-2V7h2v10zm4 0h-2v-4h2v4z\"/>\n",
              "    </g>\n",
              "</svg>\n",
              "  </button>\n",
              "\n",
              "<style>\n",
              "  .colab-df-quickchart {\n",
              "      --bg-color: #E8F0FE;\n",
              "      --fill-color: #1967D2;\n",
              "      --hover-bg-color: #E2EBFA;\n",
              "      --hover-fill-color: #174EA6;\n",
              "      --disabled-fill-color: #AAA;\n",
              "      --disabled-bg-color: #DDD;\n",
              "  }\n",
              "\n",
              "  [theme=dark] .colab-df-quickchart {\n",
              "      --bg-color: #3B4455;\n",
              "      --fill-color: #D2E3FC;\n",
              "      --hover-bg-color: #434B5C;\n",
              "      --hover-fill-color: #FFFFFF;\n",
              "      --disabled-bg-color: #3B4455;\n",
              "      --disabled-fill-color: #666;\n",
              "  }\n",
              "\n",
              "  .colab-df-quickchart {\n",
              "    background-color: var(--bg-color);\n",
              "    border: none;\n",
              "    border-radius: 50%;\n",
              "    cursor: pointer;\n",
              "    display: none;\n",
              "    fill: var(--fill-color);\n",
              "    height: 32px;\n",
              "    padding: 0;\n",
              "    width: 32px;\n",
              "  }\n",
              "\n",
              "  .colab-df-quickchart:hover {\n",
              "    background-color: var(--hover-bg-color);\n",
              "    box-shadow: 0 1px 2px rgba(60, 64, 67, 0.3), 0 1px 3px 1px rgba(60, 64, 67, 0.15);\n",
              "    fill: var(--button-hover-fill-color);\n",
              "  }\n",
              "\n",
              "  .colab-df-quickchart-complete:disabled,\n",
              "  .colab-df-quickchart-complete:disabled:hover {\n",
              "    background-color: var(--disabled-bg-color);\n",
              "    fill: var(--disabled-fill-color);\n",
              "    box-shadow: none;\n",
              "  }\n",
              "\n",
              "  .colab-df-spinner {\n",
              "    border: 2px solid var(--fill-color);\n",
              "    border-color: transparent;\n",
              "    border-bottom-color: var(--fill-color);\n",
              "    animation:\n",
              "      spin 1s steps(1) infinite;\n",
              "  }\n",
              "\n",
              "  @keyframes spin {\n",
              "    0% {\n",
              "      border-color: transparent;\n",
              "      border-bottom-color: var(--fill-color);\n",
              "      border-left-color: var(--fill-color);\n",
              "    }\n",
              "    20% {\n",
              "      border-color: transparent;\n",
              "      border-left-color: var(--fill-color);\n",
              "      border-top-color: var(--fill-color);\n",
              "    }\n",
              "    30% {\n",
              "      border-color: transparent;\n",
              "      border-left-color: var(--fill-color);\n",
              "      border-top-color: var(--fill-color);\n",
              "      border-right-color: var(--fill-color);\n",
              "    }\n",
              "    40% {\n",
              "      border-color: transparent;\n",
              "      border-right-color: var(--fill-color);\n",
              "      border-top-color: var(--fill-color);\n",
              "    }\n",
              "    60% {\n",
              "      border-color: transparent;\n",
              "      border-right-color: var(--fill-color);\n",
              "    }\n",
              "    80% {\n",
              "      border-color: transparent;\n",
              "      border-right-color: var(--fill-color);\n",
              "      border-bottom-color: var(--fill-color);\n",
              "    }\n",
              "    90% {\n",
              "      border-color: transparent;\n",
              "      border-bottom-color: var(--fill-color);\n",
              "    }\n",
              "  }\n",
              "</style>\n",
              "\n",
              "  <script>\n",
              "    async function quickchart(key) {\n",
              "      const quickchartButtonEl =\n",
              "        document.querySelector('#' + key + ' button');\n",
              "      quickchartButtonEl.disabled = true;  // To prevent multiple clicks.\n",
              "      quickchartButtonEl.classList.add('colab-df-spinner');\n",
              "      try {\n",
              "        const charts = await google.colab.kernel.invokeFunction(\n",
              "            'suggestCharts', [key], {});\n",
              "      } catch (error) {\n",
              "        console.error('Error during call to suggestCharts:', error);\n",
              "      }\n",
              "      quickchartButtonEl.classList.remove('colab-df-spinner');\n",
              "      quickchartButtonEl.classList.add('colab-df-quickchart-complete');\n",
              "    }\n",
              "    (() => {\n",
              "      let quickchartButtonEl =\n",
              "        document.querySelector('#df-4af78b12-4b2b-4736-b541-eec40280c9c8 button');\n",
              "      quickchartButtonEl.style.display =\n",
              "        google.colab.kernel.accessAllowed ? 'block' : 'none';\n",
              "    })();\n",
              "  </script>\n",
              "</div>\n",
              "\n",
              "    </div>\n",
              "  </div>\n"
            ],
            "application/vnd.google.colaboratory.intrinsic+json": {
              "type": "dataframe",
              "summary": "{\n  \"name\": \"imdb_data\",\n  \"rows\": 4,\n  \"fields\": [\n    {\n      \"column\": \"review\",\n      \"properties\": {\n        \"dtype\": \"string\",\n        \"num_unique_values\": 4,\n        \"samples\": [\n          49582,\n          \"5\",\n          \"50000\"\n        ],\n        \"semantic_type\": \"\",\n        \"description\": \"\"\n      }\n    },\n    {\n      \"column\": \"sentiment\",\n      \"properties\": {\n        \"dtype\": \"string\",\n        \"num_unique_values\": 4,\n        \"samples\": [\n          2,\n          \"25000\",\n          \"50000\"\n        ],\n        \"semantic_type\": \"\",\n        \"description\": \"\"\n      }\n    }\n  ]\n}"
            }
          },
          "metadata": {},
          "execution_count": 5
        }
      ]
    },
    {
      "cell_type": "code",
      "source": [
        "imdb_data['sentiment'].value_counts()"
      ],
      "metadata": {
        "colab": {
          "base_uri": "https://localhost:8080/",
          "height": 176
        },
        "id": "qVcuX1PZmBGm",
        "outputId": "e5ace5ef-d152-465d-8b47-61869ca80f23"
      },
      "execution_count": null,
      "outputs": [
        {
          "output_type": "execute_result",
          "data": {
            "text/plain": [
              "sentiment\n",
              "positive    25000\n",
              "negative    25000\n",
              "Name: count, dtype: int64"
            ],
            "text/html": [
              "<div>\n",
              "<style scoped>\n",
              "    .dataframe tbody tr th:only-of-type {\n",
              "        vertical-align: middle;\n",
              "    }\n",
              "\n",
              "    .dataframe tbody tr th {\n",
              "        vertical-align: top;\n",
              "    }\n",
              "\n",
              "    .dataframe thead th {\n",
              "        text-align: right;\n",
              "    }\n",
              "</style>\n",
              "<table border=\"1\" class=\"dataframe\">\n",
              "  <thead>\n",
              "    <tr style=\"text-align: right;\">\n",
              "      <th></th>\n",
              "      <th>count</th>\n",
              "    </tr>\n",
              "    <tr>\n",
              "      <th>sentiment</th>\n",
              "      <th></th>\n",
              "    </tr>\n",
              "  </thead>\n",
              "  <tbody>\n",
              "    <tr>\n",
              "      <th>positive</th>\n",
              "      <td>25000</td>\n",
              "    </tr>\n",
              "    <tr>\n",
              "      <th>negative</th>\n",
              "      <td>25000</td>\n",
              "    </tr>\n",
              "  </tbody>\n",
              "</table>\n",
              "</div><br><label><b>dtype:</b> int64</label>"
            ]
          },
          "metadata": {},
          "execution_count": 6
        }
      ]
    },
    {
      "cell_type": "markdown",
      "source": [
        "## Text Pre-processing"
      ],
      "metadata": {
        "id": "kOnz8XLEpvZa"
      }
    },
    {
      "cell_type": "markdown",
      "source": [
        "Removing html and special characters by using Regular expression"
      ],
      "metadata": {
        "id": "Ap8lIJ4It646"
      }
    },
    {
      "cell_type": "code",
      "source": [
        "def remove_speacial_characters(text):\n",
        "  # lower the text\n",
        "  text = text.lower()\n",
        "  # Remove html tags and some other special characters and replace by space\n",
        "  text = re.sub(r'<.*?>',' ',text)\n",
        "  text = re.sub(r'[^a-zA-Z]', ' ', text)\n",
        "  return text\n",
        "\n",
        "# test = imdb_data['review'].loc[:5].to_string()\n",
        "# test = remove_speacial_characters(test)\n",
        "# print(test)»"
      ],
      "metadata": {
        "id": "6IeknqSypnVE"
      },
      "execution_count": null,
      "outputs": []
    },
    {
      "cell_type": "markdown",
      "source": [
        "Download NLTK library for text normalization"
      ],
      "metadata": {
        "id": "9VvZjSj5pbAg"
      }
    },
    {
      "cell_type": "code",
      "source": [
        "# Download necessary NLTK resources\n",
        "nltk.download('stopwords')\n",
        "nltk.download('wordnet')\n",
        "\n",
        "# Initialize the lemmatizer and stopwords\n",
        "lemmatizer = WordNetLemmatizer()\n",
        "stop_words = set(stopwords.words('english'))"
      ],
      "metadata": {
        "colab": {
          "base_uri": "https://localhost:8080/"
        },
        "id": "0cqMiBnSm641",
        "outputId": "381e7427-54a7-4dd8-b347-3f33971b407f"
      },
      "execution_count": null,
      "outputs": [
        {
          "output_type": "stream",
          "name": "stderr",
          "text": [
            "[nltk_data] Downloading package stopwords to /root/nltk_data...\n",
            "[nltk_data]   Unzipping corpora/stopwords.zip.\n",
            "[nltk_data] Downloading package wordnet to /root/nltk_data...\n"
          ]
        }
      ]
    },
    {
      "cell_type": "code",
      "source": [
        "print(stop_words)"
      ],
      "metadata": {
        "colab": {
          "base_uri": "https://localhost:8080/"
        },
        "id": "6AwD2Vg_wD0G",
        "outputId": "b511e541-5b45-4992-fabe-0a5b407ff68c"
      },
      "execution_count": null,
      "outputs": [
        {
          "output_type": "stream",
          "name": "stdout",
          "text": [
            "{'ain', 'has', 'our', 'y', \"hasn't\", 'what', 'were', 'myself', 'above', \"needn't\", 'hers', 'hadn', 'how', 'over', 'which', 'and', 'between', 'only', 'mustn', \"haven't\", 'to', 'am', 'yours', 'few', 'than', 'shouldn', \"won't\", 'some', 'by', 'now', 'weren', \"shouldn't\", 'she', 'of', 'these', 'mightn', 'it', \"you're\", 'own', 'both', 'doing', \"didn't\", 'd', 'my', 'this', 'nor', 'on', 'as', 'no', 's', \"shan't\", 'why', 'most', 'couldn', 'did', 'm', 'all', \"it's\", 'll', \"wouldn't\", 'him', 'can', 'whom', 'her', 'about', 'wasn', 'yourselves', 'after', 're', 'a', \"that'll\", 'doesn', 't', 'just', 'yourself', \"you've\", 'here', 'who', 'through', 'any', 'from', 'ours', \"doesn't\", 'then', 'during', 'because', 'o', \"mustn't\", 'aren', 'once', 'himself', 'we', 'does', 'they', 'into', 'haven', 'he', 'should', 'not', 'there', 'don', 'so', 'i', 'you', 'before', 'isn', \"wasn't\", 'while', 'theirs', 'will', 'its', 'are', 'was', \"she's\", 'if', 'ma', 'having', 've', \"couldn't\", 'herself', 'your', 'down', 'didn', 'again', 'his', 'itself', 'do', 'out', 'have', 'be', 'won', 'the', 'further', 'being', 'at', 'shan', \"should've\", 'hasn', 'me', 'in', 'but', 'under', \"you'd\", 'with', \"isn't\", 'been', 'had', 'up', 'or', 'very', 'needn', 'is', 'too', 'such', \"don't\", 'against', 'ourselves', \"mightn't\", 'their', 'more', 'for', 'other', \"you'll\", \"aren't\", 'those', 'same', 'an', 'below', 'each', \"hadn't\", 'wouldn', 'that', 'themselves', 'off', 'where', 'them', 'when', \"weren't\", 'until'}\n"
          ]
        }
      ]
    },
    {
      "cell_type": "markdown",
      "source": [
        "Normalizing the text by removing insignificant words from the dataset"
      ],
      "metadata": {
        "id": "aDxgrjLDy_Bb"
      }
    },
    {
      "cell_type": "code",
      "source": [
        "def normalizing_text(text):\n",
        "  # spliting the text into words\n",
        "  words = text.split()\n",
        "  words = [lemmatizer.lemmatize(word) for word in words if word not in stop_words]\n",
        "  return ' '.join(words)\n",
        "\n",
        "# normalizing_text(test)"
      ],
      "metadata": {
        "id": "nmUXh63XsrIr"
      },
      "execution_count": null,
      "outputs": []
    },
    {
      "cell_type": "code",
      "source": [
        "imdb_data['cleaned_review'] = imdb_data['review'].apply(remove_speacial_characters)\n",
        "imdb_data['cleaned_review'] = imdb_data['cleaned_review'].apply(normalizing_text)\n",
        "imdb_data.head(10)"
      ],
      "metadata": {
        "colab": {
          "base_uri": "https://localhost:8080/",
          "height": 359
        },
        "id": "q9xl0JvHw00Y",
        "outputId": "30272981-d9e5-4898-c571-e3670dc8ba41",
        "collapsed": true
      },
      "execution_count": null,
      "outputs": [
        {
          "output_type": "execute_result",
          "data": {
            "text/plain": [
              "                                              review sentiment  \\\n",
              "0  One of the other reviewers has mentioned that ...  positive   \n",
              "1  A wonderful little production. <br /><br />The...  positive   \n",
              "2  I thought this was a wonderful way to spend ti...  positive   \n",
              "3  Basically there's a family where a little boy ...  negative   \n",
              "4  Petter Mattei's \"Love in the Time of Money\" is...  positive   \n",
              "5  Probably my all-time favorite movie, a story o...  positive   \n",
              "6  I sure would like to see a resurrection of a u...  positive   \n",
              "7  This show was an amazing, fresh & innovative i...  negative   \n",
              "8  Encouraged by the positive comments about this...  negative   \n",
              "9  If you like original gut wrenching laughter yo...  positive   \n",
              "\n",
              "                                      cleaned_review  \n",
              "0  one reviewer mentioned watching oz episode hoo...  \n",
              "1  wonderful little production filming technique ...  \n",
              "2  thought wonderful way spend time hot summer we...  \n",
              "3  basically family little boy jake think zombie ...  \n",
              "4  petter mattei love time money visually stunnin...  \n",
              "5  probably time favorite movie story selflessnes...  \n",
              "6  sure would like see resurrection dated seahunt...  \n",
              "7  show amazing fresh innovative idea first aired...  \n",
              "8  encouraged positive comment film looking forwa...  \n",
              "9  like original gut wrenching laughter like movi...  "
            ],
            "text/html": [
              "\n",
              "  <div id=\"df-4f6216fe-e262-4aff-ba18-4de3331d3ba7\" class=\"colab-df-container\">\n",
              "    <div>\n",
              "<style scoped>\n",
              "    .dataframe tbody tr th:only-of-type {\n",
              "        vertical-align: middle;\n",
              "    }\n",
              "\n",
              "    .dataframe tbody tr th {\n",
              "        vertical-align: top;\n",
              "    }\n",
              "\n",
              "    .dataframe thead th {\n",
              "        text-align: right;\n",
              "    }\n",
              "</style>\n",
              "<table border=\"1\" class=\"dataframe\">\n",
              "  <thead>\n",
              "    <tr style=\"text-align: right;\">\n",
              "      <th></th>\n",
              "      <th>review</th>\n",
              "      <th>sentiment</th>\n",
              "      <th>cleaned_review</th>\n",
              "    </tr>\n",
              "  </thead>\n",
              "  <tbody>\n",
              "    <tr>\n",
              "      <th>0</th>\n",
              "      <td>One of the other reviewers has mentioned that ...</td>\n",
              "      <td>positive</td>\n",
              "      <td>one reviewer mentioned watching oz episode hoo...</td>\n",
              "    </tr>\n",
              "    <tr>\n",
              "      <th>1</th>\n",
              "      <td>A wonderful little production. &lt;br /&gt;&lt;br /&gt;The...</td>\n",
              "      <td>positive</td>\n",
              "      <td>wonderful little production filming technique ...</td>\n",
              "    </tr>\n",
              "    <tr>\n",
              "      <th>2</th>\n",
              "      <td>I thought this was a wonderful way to spend ti...</td>\n",
              "      <td>positive</td>\n",
              "      <td>thought wonderful way spend time hot summer we...</td>\n",
              "    </tr>\n",
              "    <tr>\n",
              "      <th>3</th>\n",
              "      <td>Basically there's a family where a little boy ...</td>\n",
              "      <td>negative</td>\n",
              "      <td>basically family little boy jake think zombie ...</td>\n",
              "    </tr>\n",
              "    <tr>\n",
              "      <th>4</th>\n",
              "      <td>Petter Mattei's \"Love in the Time of Money\" is...</td>\n",
              "      <td>positive</td>\n",
              "      <td>petter mattei love time money visually stunnin...</td>\n",
              "    </tr>\n",
              "    <tr>\n",
              "      <th>5</th>\n",
              "      <td>Probably my all-time favorite movie, a story o...</td>\n",
              "      <td>positive</td>\n",
              "      <td>probably time favorite movie story selflessnes...</td>\n",
              "    </tr>\n",
              "    <tr>\n",
              "      <th>6</th>\n",
              "      <td>I sure would like to see a resurrection of a u...</td>\n",
              "      <td>positive</td>\n",
              "      <td>sure would like see resurrection dated seahunt...</td>\n",
              "    </tr>\n",
              "    <tr>\n",
              "      <th>7</th>\n",
              "      <td>This show was an amazing, fresh &amp; innovative i...</td>\n",
              "      <td>negative</td>\n",
              "      <td>show amazing fresh innovative idea first aired...</td>\n",
              "    </tr>\n",
              "    <tr>\n",
              "      <th>8</th>\n",
              "      <td>Encouraged by the positive comments about this...</td>\n",
              "      <td>negative</td>\n",
              "      <td>encouraged positive comment film looking forwa...</td>\n",
              "    </tr>\n",
              "    <tr>\n",
              "      <th>9</th>\n",
              "      <td>If you like original gut wrenching laughter yo...</td>\n",
              "      <td>positive</td>\n",
              "      <td>like original gut wrenching laughter like movi...</td>\n",
              "    </tr>\n",
              "  </tbody>\n",
              "</table>\n",
              "</div>\n",
              "    <div class=\"colab-df-buttons\">\n",
              "\n",
              "  <div class=\"colab-df-container\">\n",
              "    <button class=\"colab-df-convert\" onclick=\"convertToInteractive('df-4f6216fe-e262-4aff-ba18-4de3331d3ba7')\"\n",
              "            title=\"Convert this dataframe to an interactive table.\"\n",
              "            style=\"display:none;\">\n",
              "\n",
              "  <svg xmlns=\"http://www.w3.org/2000/svg\" height=\"24px\" viewBox=\"0 -960 960 960\">\n",
              "    <path d=\"M120-120v-720h720v720H120Zm60-500h600v-160H180v160Zm220 220h160v-160H400v160Zm0 220h160v-160H400v160ZM180-400h160v-160H180v160Zm440 0h160v-160H620v160ZM180-180h160v-160H180v160Zm440 0h160v-160H620v160Z\"/>\n",
              "  </svg>\n",
              "    </button>\n",
              "\n",
              "  <style>\n",
              "    .colab-df-container {\n",
              "      display:flex;\n",
              "      gap: 12px;\n",
              "    }\n",
              "\n",
              "    .colab-df-convert {\n",
              "      background-color: #E8F0FE;\n",
              "      border: none;\n",
              "      border-radius: 50%;\n",
              "      cursor: pointer;\n",
              "      display: none;\n",
              "      fill: #1967D2;\n",
              "      height: 32px;\n",
              "      padding: 0 0 0 0;\n",
              "      width: 32px;\n",
              "    }\n",
              "\n",
              "    .colab-df-convert:hover {\n",
              "      background-color: #E2EBFA;\n",
              "      box-shadow: 0px 1px 2px rgba(60, 64, 67, 0.3), 0px 1px 3px 1px rgba(60, 64, 67, 0.15);\n",
              "      fill: #174EA6;\n",
              "    }\n",
              "\n",
              "    .colab-df-buttons div {\n",
              "      margin-bottom: 4px;\n",
              "    }\n",
              "\n",
              "    [theme=dark] .colab-df-convert {\n",
              "      background-color: #3B4455;\n",
              "      fill: #D2E3FC;\n",
              "    }\n",
              "\n",
              "    [theme=dark] .colab-df-convert:hover {\n",
              "      background-color: #434B5C;\n",
              "      box-shadow: 0px 1px 3px 1px rgba(0, 0, 0, 0.15);\n",
              "      filter: drop-shadow(0px 1px 2px rgba(0, 0, 0, 0.3));\n",
              "      fill: #FFFFFF;\n",
              "    }\n",
              "  </style>\n",
              "\n",
              "    <script>\n",
              "      const buttonEl =\n",
              "        document.querySelector('#df-4f6216fe-e262-4aff-ba18-4de3331d3ba7 button.colab-df-convert');\n",
              "      buttonEl.style.display =\n",
              "        google.colab.kernel.accessAllowed ? 'block' : 'none';\n",
              "\n",
              "      async function convertToInteractive(key) {\n",
              "        const element = document.querySelector('#df-4f6216fe-e262-4aff-ba18-4de3331d3ba7');\n",
              "        const dataTable =\n",
              "          await google.colab.kernel.invokeFunction('convertToInteractive',\n",
              "                                                    [key], {});\n",
              "        if (!dataTable) return;\n",
              "\n",
              "        const docLinkHtml = 'Like what you see? Visit the ' +\n",
              "          '<a target=\"_blank\" href=https://colab.research.google.com/notebooks/data_table.ipynb>data table notebook</a>'\n",
              "          + ' to learn more about interactive tables.';\n",
              "        element.innerHTML = '';\n",
              "        dataTable['output_type'] = 'display_data';\n",
              "        await google.colab.output.renderOutput(dataTable, element);\n",
              "        const docLink = document.createElement('div');\n",
              "        docLink.innerHTML = docLinkHtml;\n",
              "        element.appendChild(docLink);\n",
              "      }\n",
              "    </script>\n",
              "  </div>\n",
              "\n",
              "\n",
              "<div id=\"df-37c84d63-3fa9-4709-89d4-21d26617eaa9\">\n",
              "  <button class=\"colab-df-quickchart\" onclick=\"quickchart('df-37c84d63-3fa9-4709-89d4-21d26617eaa9')\"\n",
              "            title=\"Suggest charts\"\n",
              "            style=\"display:none;\">\n",
              "\n",
              "<svg xmlns=\"http://www.w3.org/2000/svg\" height=\"24px\"viewBox=\"0 0 24 24\"\n",
              "     width=\"24px\">\n",
              "    <g>\n",
              "        <path d=\"M19 3H5c-1.1 0-2 .9-2 2v14c0 1.1.9 2 2 2h14c1.1 0 2-.9 2-2V5c0-1.1-.9-2-2-2zM9 17H7v-7h2v7zm4 0h-2V7h2v10zm4 0h-2v-4h2v4z\"/>\n",
              "    </g>\n",
              "</svg>\n",
              "  </button>\n",
              "\n",
              "<style>\n",
              "  .colab-df-quickchart {\n",
              "      --bg-color: #E8F0FE;\n",
              "      --fill-color: #1967D2;\n",
              "      --hover-bg-color: #E2EBFA;\n",
              "      --hover-fill-color: #174EA6;\n",
              "      --disabled-fill-color: #AAA;\n",
              "      --disabled-bg-color: #DDD;\n",
              "  }\n",
              "\n",
              "  [theme=dark] .colab-df-quickchart {\n",
              "      --bg-color: #3B4455;\n",
              "      --fill-color: #D2E3FC;\n",
              "      --hover-bg-color: #434B5C;\n",
              "      --hover-fill-color: #FFFFFF;\n",
              "      --disabled-bg-color: #3B4455;\n",
              "      --disabled-fill-color: #666;\n",
              "  }\n",
              "\n",
              "  .colab-df-quickchart {\n",
              "    background-color: var(--bg-color);\n",
              "    border: none;\n",
              "    border-radius: 50%;\n",
              "    cursor: pointer;\n",
              "    display: none;\n",
              "    fill: var(--fill-color);\n",
              "    height: 32px;\n",
              "    padding: 0;\n",
              "    width: 32px;\n",
              "  }\n",
              "\n",
              "  .colab-df-quickchart:hover {\n",
              "    background-color: var(--hover-bg-color);\n",
              "    box-shadow: 0 1px 2px rgba(60, 64, 67, 0.3), 0 1px 3px 1px rgba(60, 64, 67, 0.15);\n",
              "    fill: var(--button-hover-fill-color);\n",
              "  }\n",
              "\n",
              "  .colab-df-quickchart-complete:disabled,\n",
              "  .colab-df-quickchart-complete:disabled:hover {\n",
              "    background-color: var(--disabled-bg-color);\n",
              "    fill: var(--disabled-fill-color);\n",
              "    box-shadow: none;\n",
              "  }\n",
              "\n",
              "  .colab-df-spinner {\n",
              "    border: 2px solid var(--fill-color);\n",
              "    border-color: transparent;\n",
              "    border-bottom-color: var(--fill-color);\n",
              "    animation:\n",
              "      spin 1s steps(1) infinite;\n",
              "  }\n",
              "\n",
              "  @keyframes spin {\n",
              "    0% {\n",
              "      border-color: transparent;\n",
              "      border-bottom-color: var(--fill-color);\n",
              "      border-left-color: var(--fill-color);\n",
              "    }\n",
              "    20% {\n",
              "      border-color: transparent;\n",
              "      border-left-color: var(--fill-color);\n",
              "      border-top-color: var(--fill-color);\n",
              "    }\n",
              "    30% {\n",
              "      border-color: transparent;\n",
              "      border-left-color: var(--fill-color);\n",
              "      border-top-color: var(--fill-color);\n",
              "      border-right-color: var(--fill-color);\n",
              "    }\n",
              "    40% {\n",
              "      border-color: transparent;\n",
              "      border-right-color: var(--fill-color);\n",
              "      border-top-color: var(--fill-color);\n",
              "    }\n",
              "    60% {\n",
              "      border-color: transparent;\n",
              "      border-right-color: var(--fill-color);\n",
              "    }\n",
              "    80% {\n",
              "      border-color: transparent;\n",
              "      border-right-color: var(--fill-color);\n",
              "      border-bottom-color: var(--fill-color);\n",
              "    }\n",
              "    90% {\n",
              "      border-color: transparent;\n",
              "      border-bottom-color: var(--fill-color);\n",
              "    }\n",
              "  }\n",
              "</style>\n",
              "\n",
              "  <script>\n",
              "    async function quickchart(key) {\n",
              "      const quickchartButtonEl =\n",
              "        document.querySelector('#' + key + ' button');\n",
              "      quickchartButtonEl.disabled = true;  // To prevent multiple clicks.\n",
              "      quickchartButtonEl.classList.add('colab-df-spinner');\n",
              "      try {\n",
              "        const charts = await google.colab.kernel.invokeFunction(\n",
              "            'suggestCharts', [key], {});\n",
              "      } catch (error) {\n",
              "        console.error('Error during call to suggestCharts:', error);\n",
              "      }\n",
              "      quickchartButtonEl.classList.remove('colab-df-spinner');\n",
              "      quickchartButtonEl.classList.add('colab-df-quickchart-complete');\n",
              "    }\n",
              "    (() => {\n",
              "      let quickchartButtonEl =\n",
              "        document.querySelector('#df-37c84d63-3fa9-4709-89d4-21d26617eaa9 button');\n",
              "      quickchartButtonEl.style.display =\n",
              "        google.colab.kernel.accessAllowed ? 'block' : 'none';\n",
              "    })();\n",
              "  </script>\n",
              "</div>\n",
              "\n",
              "    </div>\n",
              "  </div>\n"
            ],
            "application/vnd.google.colaboratory.intrinsic+json": {
              "type": "dataframe",
              "variable_name": "imdb_data",
              "summary": "{\n  \"name\": \"imdb_data\",\n  \"rows\": 50000,\n  \"fields\": [\n    {\n      \"column\": \"review\",\n      \"properties\": {\n        \"dtype\": \"string\",\n        \"num_unique_values\": 49582,\n        \"samples\": [\n          \"\\\"Soul Plane\\\" is a horrible attempt at comedy that only should appeal people with thick skulls, bloodshot eyes and furry pawns. <br /><br />The plot is not only incoherent but also non-existent, acting is mostly sub sub-par with a gang of highly moronic and dreadful characters thrown in for bad measure, jokes are often spotted miles ahead and almost never even a bit amusing. This movie lacks any structure and is full of racial stereotypes that must have seemed old even in the fifties, the only thing it really has going for it is some pretty ladies, but really, if you want that you can rent something from the \\\"Adult\\\" section. OK?<br /><br />I can hardly see anything here to recommend since you'll probably have a lot a better and productive time chasing rats with a sledgehammer or inventing waterproof teabags or whatever.<br /><br />2/10\",\n          \"Guest from the Future tells a fascinating story of time travel, friendship, battle of good and evil -- all with a small budget, child actors, and few special effects. Something for Spielberg and Lucas to learn from. ;) A sixth-grader Kolya \\\"Nick\\\" Gerasimov finds a time machine in the basement of a decrepit building and travels 100 years into the future. He discovers a near-perfect, utopian society where robots play guitars and write poetry, everyone is kind to each other and people enjoy everything technology has to offer. Alice is the daughter of a prominent scientist who invented a device called Mielophone that allows to read minds of humans and animals. The device can be put to both good and bad use, depending on whose hands it falls into. When two evil space pirates from Saturn who want to rule the universe attempt to steal Mielophone, it falls into the hands of 20th century school boy Nick. With the pirates hot on his tracks, he travels back to his time, followed by the pirates, and Alice. Chaos, confusion and funny situations follow as the luckless pirates try to blend in with the earthlings. Alice enrolls in the same school Nick goes to and demonstrates superhuman abilities in PE class. The catch is, Alice doesn't know what Nick looks like, while the pirates do. Also, the pirates are able to change their appearance and turn literally into anyone. (Hmm, I wonder if this is where James Cameron got the idea for Terminator...) Who gets to Nick -- and Mielophone -- first? Excellent plot, non-stop adventures, and great soundtrack. I wish Hollywood made kid movies like this one...\",\n          \"\\\"National Treasure\\\" (2004) is a thoroughly misguided hodge-podge of plot entanglements that borrow from nearly every cloak and dagger government conspiracy clich\\u00e9 that has ever been written. The film stars Nicholas Cage as Benjamin Franklin Gates (how precious is that, I ask you?); a seemingly normal fellow who, for no other reason than being of a lineage of like-minded misguided fortune hunters, decides to steal a 'national treasure' that has been hidden by the United States founding fathers. After a bit of subtext and background that plays laughably (unintentionally) like Indiana Jones meets The Patriot, the film degenerates into one misguided whimsy after another \\u0096 attempting to create a 'Stanley Goodspeed' regurgitation of Nicholas Cage and launch the whole convoluted mess forward with a series of high octane, but disconnected misadventures.<br /><br />The relevancy and logic to having George Washington and his motley crew of patriots burying a king's ransom someplace on native soil, and then, going through the meticulous plan of leaving clues scattered throughout U.S. currency art work, is something that director Jon Turteltaub never quite gets around to explaining. Couldn't Washington found better usage for such wealth during the start up of the country? Hence, we are left with a mystery built on top of an enigma that is already on shaky ground by the time Ben appoints himself the new custodian of this untold wealth. Ben's intentions are noble \\u0096 if confusing. He's set on protecting the treasure. For who and when?\\u0085your guess is as good as mine.<br /><br />But there are a few problems with Ben's crusade. First up, his friend, Ian Holmes (Sean Bean) decides that he can't wait for Ben to make up his mind about stealing the Declaration of Independence from the National Archives (oh, yeah \\u0096 brilliant idea!). Presumably, the back of that famous document holds the secret answer to the ultimate fortune. So Ian tries to kill Ben. The assassination attempt is, of course, unsuccessful, if overly melodramatic. It also affords Ben the opportunity to pick up, and pick on, the very sultry curator of the archives, Abigail Chase (Diane Kruger). She thinks Ben is clearly a nut \\u0096 at least at the beginning. But true to action/romance form, Abby's resolve melts quicker than you can say, \\\"is that the Hope Diamond?\\\" The film moves into full X-File-ish mode, as the FBI, mistakenly believing that Ben is behind the theft, retaliate in various benign ways that lead to a multi-layering of action sequences reminiscent of Mission Impossible meets The Fugitive. Honestly, don't those guys ever get 'intelligence' information that is correct? In the final analysis, \\\"National Treasure\\\" isn't great film making, so much as it's a patchwork rehash of tired old bits from other movies, woven together from scraps, the likes of which would make IL' Betsy Ross blush.<br /><br />The Buena Vista DVD delivers a far more generous treatment than this film is deserving of. The anamorphic widescreen picture exhibits a very smooth and finely detailed image with very rich colors, natural flesh tones, solid blacks and clean whites. The stylized image is also free of blemishes and digital enhancements. The audio is 5.1 and delivers a nice sonic boom to your side and rear speakers with intensity and realism. Extras include a host of promotional junket material that is rather deep and over the top in its explanation of how and why this film was made. If only, as an audience, we had had more clarification as to why Ben and co. were chasing after an illusive treasure, this might have been one good flick. Extras conclude with the theatrical trailer, audio commentary and deleted scenes. Not for the faint-hearted \\u0096 just the thick-headed.\"\n        ],\n        \"semantic_type\": \"\",\n        \"description\": \"\"\n      }\n    },\n    {\n      \"column\": \"sentiment\",\n      \"properties\": {\n        \"dtype\": \"category\",\n        \"num_unique_values\": 2,\n        \"samples\": [\n          \"negative\",\n          \"positive\"\n        ],\n        \"semantic_type\": \"\",\n        \"description\": \"\"\n      }\n    },\n    {\n      \"column\": \"cleaned_review\",\n      \"properties\": {\n        \"dtype\": \"string\",\n        \"num_unique_values\": 49573,\n        \"samples\": [\n          \"george kim traveling young son mile remote cabin upstate new york car hit deer swerve ditch seems mere occurrence misfortune mark beginning terrifying journey myth becomes reality flesh eating spirit half animal half man wendigo haunt small town wendigo larry fessenden thought provoking horror film often tenderfoot somber family drama acting great character well developed bone chilling moment subtle glimpse wendigo handled effectively never clear real imagined even story taking place entirely mile head overall wendigo first contact larry fessenden work surely last give film chance mind watching something unconventional\",\n          \"watched let rephrase suffered fan eva think flick put back head shot photo like gangsta flix even close budget hundred dollar money probably spent caterer premise interesting first victim died get chance care bother saying worth effort glad monthly rental plan local video store actually pay garbage oh flame love movie thought lotta flix good jammed jam tell need know\"\n        ],\n        \"semantic_type\": \"\",\n        \"description\": \"\"\n      }\n    }\n  ]\n}"
            }
          },
          "metadata": {},
          "execution_count": 11
        }
      ]
    },
    {
      "cell_type": "markdown",
      "source": [
        "Labeling the setiment text to be 1 or 0 for positive and negative"
      ],
      "metadata": {
        "id": "FMxvhCoSXd8y"
      }
    },
    {
      "cell_type": "code",
      "source": [
        "#labeling the sentient data\n",
        "lb=LabelBinarizer()\n",
        "#transformed sentiment data\n",
        "sentiment_data=lb.fit_transform(imdb_data['sentiment'])\n",
        "print(sentiment_data.shape)"
      ],
      "metadata": {
        "colab": {
          "base_uri": "https://localhost:8080/"
        },
        "id": "_x1ShlEEXaJ9",
        "outputId": "89d2823f-6569-4942-cdf1-6cd24dd82f15"
      },
      "execution_count": null,
      "outputs": [
        {
          "output_type": "stream",
          "name": "stdout",
          "text": [
            "(50000, 1)\n"
          ]
        }
      ]
    },
    {
      "cell_type": "markdown",
      "source": [
        "## Modeling\n",
        "In this project will be compairing 2 method for modeling the text\n",
        "1. Bag of Word\n",
        "2. Word2Vec"
      ],
      "metadata": {
        "id": "M5O8Iz80z8Dy"
      }
    },
    {
      "cell_type": "code",
      "source": [
        "# Split the dataset into training and testing sets\n",
        "train_review, test_review, train_sentiment, test_sentiment = train_test_split(imdb_data['cleaned_review'], imdb_data['sentiment'], test_size=0.2, random_state=42)"
      ],
      "metadata": {
        "id": "FL3ok1Ru0BYr"
      },
      "execution_count": null,
      "outputs": []
    },
    {
      "cell_type": "markdown",
      "source": [
        "### Bag of Word"
      ],
      "metadata": {
        "id": "jRxCrAP6QSvi"
      }
    },
    {
      "cell_type": "markdown",
      "source": [
        "Using `CountVectorizer` for Bag of Words by counting the occurrences of each word in the text."
      ],
      "metadata": {
        "id": "J_dN1z3jKwPn"
      }
    },
    {
      "cell_type": "code",
      "source": [
        "# Creating Bag of Word by changing text to numerical form\n",
        "bow = CountVectorizer(min_df=0.0, max_df=1.0, binary=False, ngram_range=(1,3))\n",
        "# Transform the train review data\n",
        "bow_train_review = bow.fit_transform(train_review)\n",
        "# Transform the test review data\n",
        "bow_test_review = bow.transform(test_review)\n",
        "\n",
        "print('Bag of Word train shape: ',bow_train_review.shape)\n",
        "print('Bag of Word test shape: ',bow_test_review.shape)"
      ],
      "metadata": {
        "colab": {
          "base_uri": "https://localhost:8080/"
        },
        "id": "l2aAbKc50YYL",
        "outputId": "e0dfb13c-9cab-44fb-b6d8-a55e38d1704e"
      },
      "execution_count": null,
      "outputs": [
        {
          "output_type": "stream",
          "name": "stdout",
          "text": [
            "Bag of Word train shape:  (40000, 6785610)\n",
            "Bag of Word test shape:  (10000, 6785610)\n"
          ]
        }
      ]
    },
    {
      "cell_type": "code",
      "source": [
        "# Count the number of non-zero elements in the second row (index 1)\n",
        "word_count_row_1 = bow_train_review[2]\n",
        "print(word_count_row_1)\n"
      ],
      "metadata": {
        "colab": {
          "base_uri": "https://localhost:8080/"
        },
        "id": "qH_oM5MXfOeO",
        "outputId": "a2ab40d3-e0c2-4598-f18b-24413ad2346e"
      },
      "execution_count": null,
      "outputs": [
        {
          "output_type": "stream",
          "name": "stdout",
          "text": [
            "  (0, 3944212)\t1\n",
            "  (0, 3836448)\t1\n",
            "  (0, 3936954)\t1\n",
            "  (0, 5698535)\t4\n",
            "  (0, 2054001)\t1\n",
            "  (0, 6130265)\t1\n",
            "  (0, 3492303)\t2\n",
            "  (0, 4905495)\t1\n",
            "  (0, 1590096)\t1\n",
            "  (0, 2704003)\t1\n",
            "  (0, 963955)\t1\n",
            "  (0, 4531281)\t1\n",
            "  (0, 6329962)\t1\n",
            "  (0, 1650978)\t1\n",
            "  (0, 4376805)\t1\n",
            "  (0, 1098230)\t1\n",
            "  (0, 2237370)\t1\n",
            "  (0, 5156123)\t1\n",
            "  (0, 6440463)\t1\n",
            "  (0, 3809232)\t1\n",
            "  (0, 5908507)\t1\n",
            "  (0, 6532041)\t1\n",
            "  (0, 2502448)\t1\n",
            "  (0, 2860629)\t1\n",
            "  (0, 2026262)\t1\n",
            "  :\t:\n",
            "  (0, 2238727)\t1\n",
            "  (0, 5156159)\t1\n",
            "  (0, 6445122)\t1\n",
            "  (0, 3954224)\t1\n",
            "  (0, 3810050)\t1\n",
            "  (0, 5909584)\t1\n",
            "  (0, 6539069)\t1\n",
            "  (0, 2511463)\t1\n",
            "  (0, 2861460)\t1\n",
            "  (0, 2029906)\t1\n",
            "  (0, 5270207)\t1\n",
            "  (0, 5749593)\t1\n",
            "  (0, 382343)\t1\n",
            "  (0, 5719230)\t1\n",
            "  (0, 6284284)\t1\n",
            "  (0, 5210565)\t1\n",
            "  (0, 1710859)\t1\n",
            "  (0, 5828751)\t1\n",
            "  (0, 6746324)\t1\n",
            "  (0, 3641100)\t1\n",
            "  (0, 2554275)\t1\n",
            "  (0, 3840453)\t1\n",
            "  (0, 1482967)\t1\n",
            "  (0, 1954979)\t1\n",
            "  (0, 502286)\t1\n"
          ]
        }
      ]
    },
    {
      "cell_type": "markdown",
      "source": [
        "### Word2Vec"
      ],
      "metadata": {
        "id": "KMBGsxWDQVon"
      }
    },
    {
      "cell_type": "code",
      "source": [
        "pip install gdown"
      ],
      "metadata": {
        "colab": {
          "base_uri": "https://localhost:8080/"
        },
        "id": "xsvEq81BSMn0",
        "outputId": "910fa02d-8616-46b8-e678-b8ca5c29ef5e"
      },
      "execution_count": null,
      "outputs": [
        {
          "output_type": "stream",
          "name": "stdout",
          "text": [
            "Requirement already satisfied: gdown in /usr/local/lib/python3.10/dist-packages (5.2.0)\n",
            "Requirement already satisfied: beautifulsoup4 in /usr/local/lib/python3.10/dist-packages (from gdown) (4.12.3)\n",
            "Requirement already satisfied: filelock in /usr/local/lib/python3.10/dist-packages (from gdown) (3.16.1)\n",
            "Requirement already satisfied: requests[socks] in /usr/local/lib/python3.10/dist-packages (from gdown) (2.32.3)\n",
            "Requirement already satisfied: tqdm in /usr/local/lib/python3.10/dist-packages (from gdown) (4.66.5)\n",
            "Requirement already satisfied: soupsieve>1.2 in /usr/local/lib/python3.10/dist-packages (from beautifulsoup4->gdown) (2.6)\n",
            "Requirement already satisfied: charset-normalizer<4,>=2 in /usr/local/lib/python3.10/dist-packages (from requests[socks]->gdown) (3.3.2)\n",
            "Requirement already satisfied: idna<4,>=2.5 in /usr/local/lib/python3.10/dist-packages (from requests[socks]->gdown) (3.10)\n",
            "Requirement already satisfied: urllib3<3,>=1.21.1 in /usr/local/lib/python3.10/dist-packages (from requests[socks]->gdown) (2.2.3)\n",
            "Requirement already satisfied: certifi>=2017.4.17 in /usr/local/lib/python3.10/dist-packages (from requests[socks]->gdown) (2024.8.30)\n",
            "Requirement already satisfied: PySocks!=1.5.7,>=1.5.6 in /usr/local/lib/python3.10/dist-packages (from requests[socks]->gdown) (1.7.1)\n"
          ]
        }
      ]
    },
    {
      "cell_type": "markdown",
      "source": [
        "Pre-trained model from : https://www.geeksforgeeks.org/pre-trained-word-embedding-in-nlp/#word2vec"
      ],
      "metadata": {
        "id": "NIuXjIIT8Adx"
      }
    },
    {
      "cell_type": "code",
      "source": [
        "url = 'https://drive.google.com/uc?id=0B7XkCwpI5KDYNlNUTTlSS21pQmM'\n",
        "output = 'GoogleNews-vectors-negative300.bin.gz'\n",
        "\n",
        "# Download the file\n",
        "gdown.download(url, output, quiet=False)"
      ],
      "metadata": {
        "colab": {
          "base_uri": "https://localhost:8080/",
          "height": 120
        },
        "id": "Bclol2XwSPlz",
        "outputId": "2c626fb7-6cc4-4bcd-fd2a-bd216b175b44"
      },
      "execution_count": null,
      "outputs": [
        {
          "output_type": "stream",
          "name": "stderr",
          "text": [
            "Downloading...\n",
            "From (original): https://drive.google.com/uc?id=0B7XkCwpI5KDYNlNUTTlSS21pQmM\n",
            "From (redirected): https://drive.google.com/uc?id=0B7XkCwpI5KDYNlNUTTlSS21pQmM&confirm=t&uuid=e2e4dee3-b520-4369-8d03-5f9e70374ae7\n",
            "To: /content/GoogleNews-vectors-negative300.bin.gz\n",
            "100%|██████████| 1.65G/1.65G [00:20<00:00, 79.7MB/s]\n"
          ]
        },
        {
          "output_type": "execute_result",
          "data": {
            "text/plain": [
              "'GoogleNews-vectors-negative300.bin.gz'"
            ],
            "application/vnd.google.colaboratory.intrinsic+json": {
              "type": "string"
            }
          },
          "metadata": {},
          "execution_count": 17
        }
      ]
    },
    {
      "cell_type": "code",
      "source": [
        "#import gensim library\n",
        "from gensim.models import Word2Vec\n",
        "from gensim.models import KeyedVectors\n",
        "#replace with the path where you have downloaded your model.\n",
        "pretrained_model_path = '/content/GoogleNews-vectors-negative300.bin.gz'\n",
        "#initialise the pre trained model using load_word2vec_format from gensim module.\n",
        "word2vectors = KeyedVectors.load_word2vec_format(pretrained_model_path, binary=True)"
      ],
      "metadata": {
        "id": "b-qzlhE2QY2E"
      },
      "execution_count": null,
      "outputs": []
    },
    {
      "cell_type": "code",
      "source": [
        "def get_word2vec(text):\n",
        "    words = text.split()\n",
        "    embedding = np.mean([word2vectors[word] for word in words if word in word2vectors], axis=0)\n",
        "    return embedding"
      ],
      "metadata": {
        "id": "Pe0zbSOEUVIb"
      },
      "execution_count": null,
      "outputs": []
    },
    {
      "cell_type": "code",
      "source": [
        "# Apply the Word2Vec embedding function to each review in the training set\n",
        "w2v_train_review = np.array([get_word2vec(review) for review in train_review])\n",
        "\n",
        "# Apply the Word2Vec embedding function to each review in the testing set\n",
        "w2v_test_review = np.array([get_word2vec(review) for review in test_review])\n",
        "\n",
        "# Display the shape of the transformed training and testing data\n",
        "print(\"Word2Vec training data shape:\", w2v_train_review.shape)\n",
        "print(\"Word2Vec testing data shape:\", w2v_test_review.shape)"
      ],
      "metadata": {
        "colab": {
          "base_uri": "https://localhost:8080/"
        },
        "id": "0_gSYsRuVAA5",
        "outputId": "84ba152a-197a-46df-efe5-1aa2a2cba9b0"
      },
      "execution_count": null,
      "outputs": [
        {
          "output_type": "stream",
          "name": "stdout",
          "text": [
            "Word2Vec training data shape: (40000, 300)\n",
            "Word2Vec testing data shape: (10000, 300)\n"
          ]
        }
      ]
    },
    {
      "cell_type": "code",
      "source": [
        "print(w2v_train_review[1])"
      ],
      "metadata": {
        "colab": {
          "base_uri": "https://localhost:8080/"
        },
        "id": "CzeyfSukiWwf",
        "outputId": "1646fa70-2890-4913-fcbc-c0d40ba33216"
      },
      "execution_count": null,
      "outputs": [
        {
          "output_type": "stream",
          "name": "stdout",
          "text": [
            "[ 0.10351159  0.02554063 -0.00521907  0.11084097 -0.09341091  0.02059218\n",
            "  0.07865704 -0.03566159  0.09043921  0.06562093  0.00194129 -0.10943693\n",
            " -0.01935565  0.02964334 -0.12808788  0.10449463  0.03912126  0.12189169\n",
            "  0.01740035 -0.11670842  0.00119106  0.07203894  0.05373416  0.00232719\n",
            "  0.05367818 -0.07382595 -0.03070988  0.09050223  0.04971371  0.03525964\n",
            " -0.09388385 -0.01777267  0.01382033 -0.00432396  0.01790703 -0.01586347\n",
            "  0.10108241  0.0031276   0.02797514  0.0689873   0.12953958 -0.05523536\n",
            "  0.11759847 -0.02546605 -0.05369478 -0.04017718 -0.06310587  0.00726554\n",
            "  0.07432264  0.01126693 -0.08917326  0.03194346 -0.03305621  0.00257674\n",
            "  0.05785846 -0.00454566 -0.01535937 -0.08695193  0.0253292  -0.0588561\n",
            " -0.01174108  0.11653878 -0.04420393 -0.06865042 -0.0410025   0.00339901\n",
            " -0.05622252  0.0379255  -0.02910076  0.02747031  0.02961854 -0.00440351\n",
            "  0.01695403  0.00596372 -0.16116394 -0.03496327  0.01981909  0.03202012\n",
            "  0.08110814  0.05648097  0.01366728  0.00641178  0.01900314 -0.06172853\n",
            " -0.07144973 -0.02485651 -0.08141495  0.12071004  0.03021044 -0.00200676\n",
            "  0.04446061  0.02878391 -0.0768528   0.01393423 -0.0225517  -0.01929127\n",
            "  0.02126398  0.01731917 -0.03503132 -0.03772152 -0.03668746  0.04590955\n",
            "  0.05274548 -0.00662557 -0.00429526 -0.02535259  0.01950556 -0.06789875\n",
            "  0.0534819  -0.08119802 -0.07563917 -0.04139181  0.02879296 -0.01787371\n",
            "  0.10104033 -0.02247662  0.0233372  -0.01385728  0.09821421  0.0403402\n",
            " -0.1048124  -0.00374368  0.01029149  0.01173295 -0.03848502 -0.04411148\n",
            " -0.09020788  0.00994166 -0.02632444  0.00501408 -0.08881602 -0.10220968\n",
            " -0.05243661  0.06812803 -0.02069409 -0.03547982  0.00692788  0.01050951\n",
            " -0.04409549  0.01952157  0.07526566 -0.10365441  0.02348844  0.04651058\n",
            "  0.02488683  0.04022957 -0.02603217  0.03056711 -0.07652558 -0.00093774\n",
            "  0.05232441  0.02956259 -0.06417364  0.07210799 -0.04264256 -0.09024396\n",
            " -0.04795265 -0.08163588 -0.05999352 -0.03861985  0.00800436  0.07272463\n",
            "  0.03629297  0.03038474 -0.02073445 -0.08314268  0.12683004 -0.06566878\n",
            "  0.03586099  0.01989976 -0.07558665 -0.04032825  0.00297748 -0.04132964\n",
            " -0.0304594  -0.0357068   0.07123698 -0.11388914 -0.01634362 -0.00113243\n",
            " -0.00029208 -0.03373729 -0.00435456 -0.02303917 -0.02095228  0.0255063\n",
            " -0.08623949 -0.00240831  0.05021443  0.03339218  0.04202423  0.03707412\n",
            "  0.0528772   0.00823817  0.01291171  0.04106886 -0.00916414  0.00926183\n",
            " -0.07678986 -0.04448857  0.04860345  0.03502356 -0.11257564  0.01420167\n",
            "  0.08578593 -0.03117819 -0.02508231  0.01175117 -0.06211449  0.00059442\n",
            " -0.03637875  0.09592328 -0.01697877  0.03401453 -0.09551778 -0.01818402\n",
            "  0.02583267 -0.03413593 -0.10455146 -0.02434652 -0.00509481  0.07117216\n",
            " -0.00230452  0.05120737  0.04564835  0.02261939  0.06776239  0.00430724\n",
            "  0.02735475  0.00048643  0.06728587 -0.01817838  0.00480781  0.03921626\n",
            "  0.09169884 -0.0021148   0.02827274 -0.05681016  0.1162558   0.01935734\n",
            "  0.0727205   0.01730279  0.03104468 -0.10017552  0.00086557  0.05138044\n",
            "  0.0546866   0.05012512  0.01270401 -0.05344666 -0.01540307  0.05275356\n",
            "  0.08213806  0.10498541  0.07841021 -0.06161869 -0.03257073 -0.01667146\n",
            " -0.05597597 -0.08104661 -0.09014741  0.01360705 -0.02571072  0.02188711\n",
            "  0.04951017  0.13068177 -0.00282088 -0.0556528  -0.08858857 -0.06432702\n",
            " -0.01032285  0.10435031  0.05152246  0.0327117   0.05804256 -0.02496057\n",
            " -0.02733758 -0.04017707 -0.03847823  0.05363711 -0.00154407 -0.04462826\n",
            "  0.0131915   0.02067252  0.02881162 -0.03353287 -0.10482143 -0.03769176\n",
            "  0.00043483  0.01555432 -0.08570351  0.07478091 -0.08657531  0.0162489\n",
            " -0.05952588 -0.01777691  0.02839442 -0.06964059  0.00910105 -0.00528566]\n"
          ]
        }
      ]
    },
    {
      "cell_type": "markdown",
      "source": [
        "## Classification\n",
        "In this project will compare 2 techniques which are **Logistic Regression** and **Naive Bayes**.\n",
        "In Naive Bayes cliassifier I chose to do 2 method according to the form of the model.\n",
        "\n",
        "\n",
        "*   Multinomial Naive Bayes: Suitable for discrete data like word counts or frequencies, which aligns well with the Bag of Words representation.\n",
        "*   Gaussian Naive Bayes: Suitable for continuous data, making it a better fit for the Word2Vec representation where the features are real-valued.\n",
        "\n"
      ],
      "metadata": {
        "id": "gqk_G_ICP39-"
      }
    },
    {
      "cell_type": "markdown",
      "source": [
        "### Bag of Word : Logistic Regression vs Multinomial Naive Bayes"
      ],
      "metadata": {
        "id": "ZK9z8w4NgQj1"
      }
    },
    {
      "cell_type": "code",
      "source": [
        "# Logistic Regression : Bag of Word\n",
        "logistic_bow = LogisticRegression(penalty='l2',max_iter=1000)\n",
        "# Training the model\n",
        "logistic_bow.fit(bow_train_review, train_sentiment)\n",
        "# Predicting the output\n",
        "pred_logistic_bow = logistic_bow.predict(bow_test_review)\n",
        "\n",
        "# Multinomial Naive Bayes : Bag of Word\n",
        "nb_bow = MultinomialNB()\n",
        "# Training the model\n",
        "nb_bow.fit(bow_train_review, train_sentiment)\n",
        "# Predicting the output\n",
        "pred_nb_bow = nb_bow.predict(bow_test_review)"
      ],
      "metadata": {
        "id": "1YPrlr7taKWL"
      },
      "execution_count": null,
      "outputs": []
    },
    {
      "cell_type": "markdown",
      "source": [
        "### Word2Vec : : Logistic Regression vs Gaussian Naive Bayes"
      ],
      "metadata": {
        "id": "Q1Oo6hOxmZaT"
      }
    },
    {
      "cell_type": "code",
      "source": [
        "# Logistic Regression : Word2Vec\n",
        "logistic_w2v = LogisticRegression(penalty='l2', max_iter=1000)\n",
        "# Training the model\n",
        "logistic_w2v.fit(w2v_train_review, train_sentiment)\n",
        "# Predictng the output\n",
        "pred_logistic_w2v = logistic_w2v.predict(w2v_test_review)\n",
        "\n",
        "# Gaussian Naive Bayes : Word2Vec\n",
        "nb_w2v = GaussianNB()\n",
        "# Training the model\n",
        "nb_w2v.fit(w2v_train_review, train_sentiment)\n",
        "#Predicting the output\n",
        "pred_nb_w2v = nb_w2v.predict(w2v_test_review)"
      ],
      "metadata": {
        "id": "t67SI8I_mF_H"
      },
      "execution_count": null,
      "outputs": []
    },
    {
      "cell_type": "markdown",
      "source": [
        "## Evaluation"
      ],
      "metadata": {
        "id": "MuSQzSZ5sItJ"
      }
    },
    {
      "cell_type": "code",
      "source": [
        "# Logistic Regression with BoW\n",
        "print(\"Logistic Regression with BoW Classification Report:\")\n",
        "print(classification_report(test_sentiment, pred_logistic_bow))\n",
        "print(\"Accuracy:\", accuracy_score(test_sentiment, pred_logistic_bow))\n",
        "print(\"AUROC:\", roc_auc_score(test_sentiment, logistic_bow.decision_function(bow_test_review)))\n",
        "\n",
        "# Multinomial Naive Bayes with BoW\n",
        "print(\"\\nMultinomial Naive Bayes with BoW Classification Report:\")\n",
        "print(classification_report(test_sentiment, pred_nb_bow))\n",
        "print(\"Accuracy:\", accuracy_score(test_sentiment, pred_nb_bow))\n",
        "print(\"AUROC:\", roc_auc_score(test_sentiment, nb_bow.predict_proba(bow_test_review)[:, 1]))\n",
        "\n",
        "print(\"\\n-----------------------------------------------------------\")\n",
        "# Logistic Regression with Word2Vec\n",
        "print(\"\\nLogistic Regression with Word2Vec Classification Report:\")\n",
        "print(classification_report(test_sentiment, pred_logistic_w2v))\n",
        "print(\"Accuracy:\", accuracy_score(test_sentiment, pred_logistic_w2v))\n",
        "print(\"AUROC:\", roc_auc_score(test_sentiment, logistic_w2v.decision_function(w2v_test_review)))\n",
        "\n",
        "# Gaussian Naive Bayes with Word2Vec\n",
        "print(\"\\nGaussian Naive Bayes with Word2Vec Classification Report:\")\n",
        "print(classification_report(test_sentiment, pred_nb_w2v))\n",
        "print(\"Accuracy:\", accuracy_score(test_sentiment, pred_nb_w2v))\n",
        "print(\"AUROC:\", roc_auc_score(test_sentiment, nb_w2v.predict_proba(w2v_test_review)[:, 1]))\n"
      ],
      "metadata": {
        "colab": {
          "base_uri": "https://localhost:8080/"
        },
        "id": "2-Pd5sidrlC4",
        "outputId": "9933dc03-fde7-47b6-eb38-21c49db98850"
      },
      "execution_count": null,
      "outputs": [
        {
          "output_type": "stream",
          "name": "stdout",
          "text": [
            "Logistic Regression with BoW Classification Report:\n",
            "              precision    recall  f1-score   support\n",
            "\n",
            "    negative       0.91      0.89      0.90      4961\n",
            "    positive       0.89      0.91      0.90      5039\n",
            "\n",
            "    accuracy                           0.90     10000\n",
            "   macro avg       0.90      0.90      0.90     10000\n",
            "weighted avg       0.90      0.90      0.90     10000\n",
            "\n",
            "Accuracy: 0.8987\n",
            "AUROC: 0.9619498050261379\n",
            "\n",
            "Multinomial Naive Bayes with BoW Classification Report:\n",
            "              precision    recall  f1-score   support\n",
            "\n",
            "    negative       0.88      0.89      0.89      4961\n",
            "    positive       0.89      0.88      0.89      5039\n",
            "\n",
            "    accuracy                           0.89     10000\n",
            "   macro avg       0.89      0.89      0.89     10000\n",
            "weighted avg       0.89      0.89      0.89     10000\n",
            "\n",
            "Accuracy: 0.8864\n",
            "AUROC: 0.9498238472828686\n",
            "\n",
            "-----------------------------------------------------------\n",
            "\n",
            "Logistic Regression with Word2Vec Classification Report:\n",
            "              precision    recall  f1-score   support\n",
            "\n",
            "    negative       0.85      0.85      0.85      4961\n",
            "    positive       0.85      0.85      0.85      5039\n",
            "\n",
            "    accuracy                           0.85     10000\n",
            "   macro avg       0.85      0.85      0.85     10000\n",
            "weighted avg       0.85      0.85      0.85     10000\n",
            "\n",
            "Accuracy: 0.8486\n",
            "AUROC: 0.9244766851615253\n",
            "\n",
            "Gaussian Naive Bayes with Word2Vec Classification Report:\n",
            "              precision    recall  f1-score   support\n",
            "\n",
            "    negative       0.75      0.79      0.77      4961\n",
            "    positive       0.78      0.74      0.76      5039\n",
            "\n",
            "    accuracy                           0.77     10000\n",
            "   macro avg       0.77      0.77      0.77     10000\n",
            "weighted avg       0.77      0.77      0.77     10000\n",
            "\n",
            "Accuracy: 0.7656\n",
            "AUROC: 0.8463523720783173\n"
          ]
        }
      ]
    },
    {
      "cell_type": "code",
      "source": [
        "\n",
        "\n",
        "# Function to take user input, preprocess it, and get predictions from the models\n",
        "def get_prediction_from_input():\n",
        "    # Get user input\n",
        "    user_input = input(\"Enter a movie review: \")\n",
        "\n",
        "    # Preprocess the input text\n",
        "    cleaned_text = remove_speacial_characters(user_input)\n",
        "    cleaned_text_2 = normalizing_text(cleaned_text)\n",
        "\n",
        "    # Convert the cleaned text to Bag of Words (BoW) representation\n",
        "    bow_vector = bow.transform([cleaned_text])\n",
        "    bow_vector_2 = bow.transform([cleaned_text_2])\n",
        "\n",
        "    # Convert the cleaned text to Word2Vec representation\n",
        "    word2vec_vector = np.array([get_word2vec(cleaned_text)])\n",
        "    word2vec_vector_2 = np.array([get_word2vec(cleaned_text_2)])\n",
        "\n",
        "    # Get predictions from the models\n",
        "    print(\"\\nPredictions based on your input:\")\n",
        "    print(\"\\n-------Cleaned text-------------\")\n",
        "    print(f\"Text: {cleaned_text}\\n\")\n",
        "\n",
        "    # Logistic Regression with BoW\n",
        "    pred_logistic_bow = logistic_bow.predict(bow_vector)\n",
        "    print(f\"Logistic Regression (BoW): {pred_logistic_bow[0]}\")\n",
        "\n",
        "    # Multinomial Naive Bayes with BoW\n",
        "    pred_nb_bow = nb_bow.predict(bow_vector)\n",
        "    print(f\"Multinomial Naive Bayes (BoW): {pred_nb_bow[0]}\")\n",
        "\n",
        "    # Logistic Regression with Word2Vec\n",
        "    pred_logistic_w2v = logistic_w2v.predict(word2vec_vector)\n",
        "    print(f\"Logistic Regression (Word2Vec): {pred_logistic_w2v[0]}\")\n",
        "\n",
        "    # Gaussian Naive Bayes with Word2Vec\n",
        "    pred_nb_w2v = nb_w2v.predict(word2vec_vector)\n",
        "    print(f\"Gaussian Naive Bayes (Word2Vec): {pred_nb_w2v[0]}\")\n",
        "\n",
        "    # cleaned and normalization for input data\n",
        "\n",
        "    print(\"\\n-----Cleaned and Normalize text----\")\n",
        "    print(f\"Text: {cleaned_text_2}\\n\")\n",
        "\n",
        "    # Logistic Regression with BoW\n",
        "    pred_logistic_bow_2 = logistic_bow.predict(bow_vector_2)\n",
        "    print(f\"Logistic Regression (BoW): {pred_logistic_bow_2[0]}\")\n",
        "\n",
        "    # Multinomial Naive Bayes with BoW\n",
        "    pred_nb_bow_2 = nb_bow.predict(bow_vector_2)\n",
        "    print(f\"Multinomial Naive Bayes (BoW): {pred_nb_bow_2[0]}\")\n",
        "\n",
        "    # Logistic Regression with Word2Vec\n",
        "    pred_logistic_w2v_2 = logistic_w2v.predict(word2vec_vector_2)\n",
        "    print(f\"Logistic Regression (Word2Vec): {pred_logistic_w2v_2[0]}\")\n",
        "\n",
        "    # Gaussian Naive Bayes with Word2Vec\n",
        "    pred_nb_w2v_2 = nb_w2v.predict(word2vec_vector_2)\n",
        "    print(f\"Gaussian Naive Bayes (Word2Vec): {pred_nb_w2v_2[0]}\")\n",
        "\n",
        "\n",
        "# Call the function\n",
        "get_prediction_from_input()\n"
      ],
      "metadata": {
        "id": "zi5v-Qn5m2dW"
      },
      "execution_count": null,
      "outputs": []
    }
  ]
}